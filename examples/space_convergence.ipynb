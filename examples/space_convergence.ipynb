{
 "cells": [
  {
   "cell_type": "code",
   "execution_count": 1,
   "metadata": {
    "collapsed": false
   },
   "outputs": [],
   "source": [
    "import matplotlib.pyplot as plt\n",
    "import numpy as np\n",
    "from wave1D import configuration, mesh, finite_element_space, finite_element_operator, elastic_propagator, lagrange_polynomial\n",
    "% matplotlib inline"
   ]
  },
  {
   "cell_type": "markdown",
   "metadata": {
    "collapsed": true
   },
   "source": [
    "# Description of a model problem and its analytical solution"
   ]
  },
  {
   "cell_type": "markdown",
   "metadata": {},
   "source": [
    "We consider the following 1D problem\n",
    "\n",
    "\\begin{equation*}\n",
    "\\left\\lbrace\n",
    "\\begin{aligned}\n",
    "& \\partial^2_{tt} u - \\partial^2_{xx}u= 0,\\quad \\text{in }]0; 1[,\\\\\n",
    "& \\partial_x u = 0,\\quad \\text{at } x \\in \\{0, 1\\},\\\\\n",
    "& u(\\cdot, 0) = u_0,\\quad \\partial_tu(\\cdot, 0) = u_1,\n",
    "\\end{aligned}\n",
    "\\right.\n",
    "\\end{equation*}\n",
    "\n",
    "from which we extract analytical solution using a spectral approach. We consider the family of orthonormal eigen functions $\\{e_i\\}_{i\\in\\mathbb{N}^*}$ solution of \n",
    "\n",
    "\\begin{equation*}\n",
    "\\left\\lbrace\n",
    "\\begin{aligned}\n",
    "& - \\partial^2_{xx} e_i= \\lambda_i e_i,\\quad \\text{in }]0; 1[,\\\\\n",
    "& \\partial_x e_i = 0,\\quad \\text{at } x \\in \\{0, 1\\}.\n",
    "\\end{aligned}\n",
    "\\right.\n",
    "\\end{equation*}\n",
    "\n",
    "After standard calculus, one can verify that\n",
    "\n",
    "\\begin{equation*}\n",
    "\\lambda_i = i^2\\pi^2, \\quad e_i(x) = \\sqrt{2}cos(i\\pi x), \\quad \\forall i \\in \\mathbb{N}^*.\n",
    "\\end{equation*}\n",
    "\n",
    "Decomposing the solution $u(x, t)$ in this basis\n",
    "\n",
    "\\begin{equation*}\n",
    "u(x, t) = \\sum_{i \\in\\mathbb{N}^*} \\xi_i(t) e_i(x),\n",
    "\\end{equation*}\n",
    "\n",
    "we obtain the following set of ordinary differential equations\n",
    "\n",
    "\\begin{equation*}\n",
    "\\left\\lbrace\n",
    "\\begin{aligned}\n",
    "& \\mathrm{d}^2_{tt} \\xi_i + \\lambda_i\\xi_i = 0,\\quad \\text{in }]0; 1[,\\\\\n",
    "& \\xi_i(0) = (u_0, e_i)_{L^2(]0; 1[)},\\quad \\mathrm{d}_t\\xi_i(0) = (u_1, e_i)_{L^2(]0; 1[)}.\n",
    "\\end{aligned}\n",
    "\\right.\n",
    "\\end{equation*},\n",
    "\n",
    "that can be solved explicitly\n",
    "\n",
    "\n",
    "\\begin{equation*}\n",
    "\\xi_i(t) = (u_0, e_i)_{L^2(]0; 1[)} cos(i\\pi t) + \\frac{1}{\\omega} (u_1, e_i)_{L^2(]0; 1[)} sin(i\\pi t), \\quad \\forall i \\in \\mathbb{N}^*.\n",
    "\\end{equation*}\n",
    "\n",
    "In the following, we will typically choose a spatially frequency $\\kappa$ such that\n",
    "\n",
    "\\begin{equation*}\n",
    "u_0 = e_\\kappa, \\quad u_1 = 0, \n",
    "\\end{equation*}\n",
    "\n",
    "so that finally we obtain\n",
    "\n",
    "\\begin{equation*}\n",
    "u_\\kappa(x, t) = \\sqrt{2} cos(\\kappa\\pi t) cos(\\kappa\\pi x).\n",
    "\\end{equation*}\n"
   ]
  },
  {
   "cell_type": "code",
   "execution_count": 2,
   "metadata": {
    "collapsed": true
   },
   "outputs": [],
   "source": [
    "def analytical_solution(k, x, t):\n",
    "    return [np.sqrt(2.0) * np.cos(k * np.pi * t) * np.cos(k * np.pi * xx) for xx in x]"
   ]
  },
  {
   "cell_type": "markdown",
   "metadata": {},
   "source": [
    "# Convergence Equi-Distributed & Assembled"
   ]
  },
  {
   "cell_type": "code",
   "execution_count": null,
   "metadata": {
    "collapsed": true
   },
   "outputs": [],
   "source": []
  }
 ],
 "metadata": {
  "kernelspec": {
   "display_name": "Python 2",
   "language": "python",
   "name": "python2"
  },
  "language_info": {
   "codemirror_mode": {
    "name": "ipython",
    "version": 2
   },
   "file_extension": ".py",
   "mimetype": "text/x-python",
   "name": "python",
   "nbconvert_exporter": "python",
   "pygments_lexer": "ipython2",
   "version": "2.7.11"
  }
 },
 "nbformat": 4,
 "nbformat_minor": 1
}
