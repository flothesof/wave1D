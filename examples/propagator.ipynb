{
 "cells": [
  {
   "cell_type": "code",
   "execution_count": 1,
   "metadata": {},
   "outputs": [],
   "source": [
    "import matplotlib.pyplot as plt\n",
    "import numpy as np\n",
    "import scipy.sparse\n",
    "from ipywidgets import interact_manual\n",
    "from wave1D import functional, mesh, operator, propagator, multiscale\n",
    "\n",
    "% matplotlib inline"
   ]
  },
  {
   "cell_type": "markdown",
   "metadata": {},
   "source": [
    "# Example 0\n",
    "\n",
    "$$ \\lambda = \\dfrac{1}{20} = 0.05 $$\n",
    "\n",
    "$$ h = \\dfrac{\\lambda}{25} = 0.0025 $$\n",
    "\n",
    "$$ L = 2 = 40 \\lambda = 1000 h $$"
   ]
  },
  {
   "cell_type": "code",
   "execution_count": 2,
   "metadata": {},
   "outputs": [
    {
     "data": {
      "application/vnd.jupyter.widget-view+json": {
       "model_id": "ebc00f08054645bdba3004736e03694e",
       "version_major": 2,
       "version_minor": 0
      },
      "text/html": [
       "<p>Failed to display Jupyter Widget of type <code>interactive</code>.</p>\n",
       "<p>\n",
       "  If you're reading this message in the Jupyter Notebook or JupyterLab Notebook, it may mean\n",
       "  that the widgets JavaScript is still loading. If this message persists, it\n",
       "  likely means that the widgets JavaScript library is either not installed or\n",
       "  not enabled. See the <a href=\"https://ipywidgets.readthedocs.io/en/stable/user_install.html\">Jupyter\n",
       "  Widgets Documentation</a> for setup instructions.\n",
       "</p>\n",
       "<p>\n",
       "  If you're reading this message in another frontend (for example, a static\n",
       "  rendering on GitHub or <a href=\"https://nbviewer.jupyter.org/\">NBViewer</a>),\n",
       "  it may mean that your frontend doesn't currently support widgets.\n",
       "</p>\n"
      ],
      "text/plain": [
       "interactive(children=(IntSlider(value=5, description=u'steps', max=10, min=1), Button(description=u'Run Interact', style=ButtonStyle()), Output()), _dom_classes=('widget-interact',))"
      ]
     },
     "metadata": {},
     "output_type": "display_data"
    }
   ],
   "source": [
    "# input data.\n",
    "h = 0.0025\n",
    "msh = mesh.make_mesh_from_npt(0.0, 2.0, (2.0 / h + 1))\n",
    "\n",
    "# exact solution.\n",
    "u0_exact = lambda t: functional.gated_cosine(msh-0.15 + t, 40, 0.05)\n",
    "solution = lambda t: 0.5 * (u0_exact(t) + u0_exact(-t))\n",
    "\n",
    "# FE operators.\n",
    "mass = operator.assemble_p1_mass(msh)\n",
    "mass_inv = scipy.sparse.diags(1.0 / mass)\n",
    "stiffness = operator.assemble_p1_stiffness(msh)\n",
    "\n",
    "# propagator.\n",
    "propa = propagator.LeapFrog(mass, mass_inv, stiffness)\n",
    "propa.set_init_cond(u1=u0_exact(0), u2=u0_exact(0))\n",
    "propa.set_timestep(propa.get_cfl())\n",
    "\n",
    "# run.\n",
    "@interact_manual\n",
    "def plot_step(steps=(1, 10)):\n",
    "    for _ in range(steps):\n",
    "        propa.forward()\n",
    "        propa.swap()\n",
    "        \n",
    "    print \"(time step, time) :\"\n",
    "    print propa.ts, propa.time\n",
    "        \n",
    "    plt.plot(msh, propa.u1)\n",
    "    plt.plot(msh, solution(propa.time))\n",
    "    plt.ylim(-0.6, 0.6)"
   ]
  },
  {
   "cell_type": "markdown",
   "metadata": {},
   "source": [
    "# Example 1\n",
    "\n",
    "$$ \\lambda = \\dfrac{1}{20} = 0.05 $$\n",
    "$$ \\lambda_c = \\dfrac{1}{40} = \\dfrac{\\lambda}{2} = 0.025 $$ \n",
    "$$ h = \\dfrac{\\lambda}{25} = 2 \\dfrac{\\lambda_c}{25} = 0.0025 $$\n",
    "$$ L = 2 = \\dfrac{40}{\\lambda} = 1000 h $$\n"
   ]
  },
  {
   "cell_type": "code",
   "execution_count": 18,
   "metadata": {},
   "outputs": [
    {
     "name": "stdout",
     "output_type": "stream",
     "text": [
      "(time step, time) :\n",
      "[ 0.00126839] [ 1.26839373]\n"
     ]
    },
    {
     "data": {
      "image/png": "[encoded data removed]",
      "text/plain": [
       "<matplotlib.figure.Figure at 0x9262198>"
      ]
     },
     "metadata": {},
     "output_type": "display_data"
    }
   ],
   "source": [
    "# input data.\n",
    "h = 0.0025\n",
    "msh = mesh.make_mesh_from_npt(0.0, 2.0, (2.0 / h + 1))\n",
    "velocity = 4.0 * np.abs(functional.gated_cosine(msh-1.0, 80, 0.025)) + 1.0\n",
    "plt.plot(msh, velocity)\n",
    "\n",
    "# FE operators.\n",
    "mass = operator.assemble_p1_mass(msh)\n",
    "mass_inv = scipy.sparse.diags(1.0 / mass)\n",
    "stiffness = operator.assemble_p1_stiffness(msh, velocity)\n",
    "\n",
    "# propagator.\n",
    "propa = propagator.LeapFrog(mass, mass_inv, stiffness)\n",
    "propa.set_init_cond(u1=u0_exact(0), u2=u0_exact(0))\n",
    "propa.set_timestep(propa.get_cfl())\n",
    "\n",
    "plt.figure()\n",
    "@interact_manual\n",
    "def plot_step(steps=(1, 100)):\n",
    "    for _ in range(steps):\n",
    "        propa.forward()\n",
    "        propa.swap()\n",
    "        \n",
    "    print \"(time step, time) :\"\n",
    "    print propa.ts, propa.time\n",
    "        \n",
    "    plt.plot(msh, propa.u1)\n",
    "    plt.ylim(-0.6, 0.6)"
   ]
  },
  {
   "cell_type": "markdown",
   "metadata": {},
   "source": [
    " # Example 2\n",
    " \n",
    "$$ \\lambda = \\dfrac{1}{20} = 0.05 $$\n",
    "\n",
    "$$ \\lambda_c = \\dfrac{\\lambda}{200} = \\dfrac{1}{4000} = 0.00025 $$\n",
    "\n",
    "$$ h = \\dfrac{\\lambda_c}{10} = 2.5e-05 $$\n",
    "\n",
    "$$ H = \\dfrac{\\lambda}{50} = 0.001 $$"
   ]
  },
  {
   "cell_type": "markdown",
   "metadata": {},
   "source": [
    "## Comparing with homogeneous exact solution"
   ]
  },
  {
   "cell_type": "code",
   "execution_count": 19,
   "metadata": {},
   "outputs": [
    {
     "name": "stdout",
     "output_type": "stream",
     "text": [
      "(time step, time) :\n",
      "1e-05 1.7\n"
     ]
    },
    {
     "data": {
      "image/png": "[encoded data removed]",
      "text/plain": [
       "<matplotlib.figure.Figure at 0x932fd30>"
      ]
     },
     "metadata": {},
     "output_type": "display_data"
    }
   ],
   "source": [
    "# meshes.\n",
    "H = 0.001\n",
    "h = 2.5e-05\n",
    "msh_H0 = mesh.make_mesh_from_npt(0.0, 1.0, (1.0 / H + 1))\n",
    "msh_h = mesh.make_mesh_from_npt(1.0, 1.0 + H, (H / h + 1))\n",
    "msh_H1 = mesh.make_mesh_from_npt(1.0 + H, 2.0, (1.0 / H + 1))\n",
    "\n",
    "# fusing meshes.\n",
    "msh_H0_h = mesh.fuse_meshes(msh_H0, msh_h)\n",
    "msh = mesh.fuse_meshes(msh_H0_h, msh_H1)\n",
    "\n",
    "# exact homogeneous solution\n",
    "u0_exact = lambda t: functional.gated_cosine(msh-0.15 + t, 40, 0.05)\n",
    "solution = lambda t: 0.5 * (u0_exact(t) + u0_exact(-t))\n",
    "\n",
    "# FE operators.\n",
    "mass = operator.assemble_p1_mass(msh)\n",
    "mass_inv = scipy.sparse.diags(1.0 / mass)\n",
    "stiffness = operator.assemble_p1_stiffness(msh)\n",
    "\n",
    "# propagator.\n",
    "propa = propagator.LeapFrog(mass, mass_inv, stiffness)\n",
    "propa.set_init_cond(u1=u0_exact(0), u2=u0_exact(0))\n",
    "propa.set_timestep(1e-5)\n",
    "\n",
    "plt.figure()\n",
    "@interact_manual\n",
    "def plot_step(steps=(1, 10000)):\n",
    "    for _ in range(steps):\n",
    "        propa.forward()\n",
    "        propa.swap()\n",
    "        \n",
    "    print \"(time step, time) :\"\n",
    "    print propa.ts, propa.time\n",
    "        \n",
    "    plt.plot(msh, propa.u1)\n",
    "    plt.plot(msh, solution(propa.time))\n",
    "    plt.ylim(-0.6, 0.6)"
   ]
  },
  {
   "cell_type": "markdown",
   "metadata": {},
   "source": [
    "## Using homogeneous velocity and constant mesh"
   ]
  },
  {
   "cell_type": "code",
   "execution_count": 20,
   "metadata": {},
   "outputs": [
    {
     "name": "stdout",
     "output_type": "stream",
     "text": [
      "(time step, time) :\n",
      "1e-05 1.55\n"
     ]
    },
    {
     "data": {
      "image/png": "[encoded data removed]",
      "text/plain": [
       "<matplotlib.figure.Figure at 0x8d74b38>"
      ]
     },
     "metadata": {},
     "output_type": "display_data"
    }
   ],
   "source": [
    "# mesh\n",
    "H = 0.001\n",
    "msh = mesh.make_mesh_from_npt(0., 2.0, (2.0 / H + 1))\n",
    "\n",
    "# exact homogeneous solution\n",
    "u0_exact = lambda t: functional.gated_cosine(msh-0.15 + t, 40, 0.05)\n",
    "solution = lambda t: 0.5 * (u0_exact(t) + u0_exact(-t))\n",
    "\n",
    "# FE operators.\n",
    "mass = operator.assemble_p1_mass(msh)\n",
    "mass_inv = scipy.sparse.diags(1.0 / mass)\n",
    "stiffness = operator.assemble_p1_stiffness(msh)\n",
    "\n",
    "# propagator.\n",
    "propa = propagator.LeapFrog(mass, mass_inv, stiffness)\n",
    "propa.set_init_cond(u1=u0_exact(0), u2=u0_exact(0))\n",
    "propa.set_timestep(1e-5)\n",
    "\n",
    "plt.figure()\n",
    "@interact_manual\n",
    "def plot_step(steps=(1, 10000)):\n",
    "    for _ in range(steps):\n",
    "        propa.forward()\n",
    "        propa.swap()\n",
    "        \n",
    "    print \"(time step, time) :\"\n",
    "    print propa.ts, propa.time\n",
    "        \n",
    "    plt.plot(msh, propa.u1)\n",
    "    plt.plot(msh, solution(propa.time))\n",
    "    plt.ylim(-0.6, 0.6)"
   ]
  },
  {
   "cell_type": "markdown",
   "metadata": {},
   "source": [
    "## Results for inhomogeneous velocity and non constant mesh"
   ]
  },
  {
   "cell_type": "code",
   "execution_count": 23,
   "metadata": {},
   "outputs": [
    {
     "name": "stdout",
     "output_type": "stream",
     "text": [
      "(time step, time) :\n",
      "[  1.52533585e-05] [ 0.07626679]\n"
     ]
    },
    {
     "data": {
      "image/png": "[encoded data removed]",
      "text/plain": [
       "<matplotlib.figure.Figure at 0x8b0db00>"
      ]
     },
     "metadata": {},
     "output_type": "display_data"
    }
   ],
   "source": [
    "# meshs.\n",
    "H = 0.001\n",
    "h = 2.5e-05\n",
    "msh_H0 = mesh.make_mesh_from_npt(0.0, 1.0, (1.0 / H + 1))\n",
    "msh_h = mesh.make_mesh_from_npt(1.0, 1.0 + H, (H / h + 1))\n",
    "msh_H1 = mesh.make_mesh_from_npt(1.0 + H, 2.0, (1.0 / H + 1))\n",
    "\n",
    "# fusing meshes.\n",
    "msh_H0_h = mesh.fuse_meshes(msh_H0, msh_h)\n",
    "msh = mesh.fuse_meshes(msh_H0_h, msh_H1)\n",
    "\n",
    "# exact homogeneous solution\n",
    "u0_exact = lambda t: functional.gated_cosine(msh-0.15 + t, 40, 0.05)\n",
    "\n",
    "# velocity.\n",
    "velocity = np.abs(2.0 * functional.gated_cosine(msh-(1.0 + H / 2), 4000, 0.00025)) + 1.0\n",
    "plt.plot(msh, velocity)\n",
    "plt.figure()\n",
    "plt.plot(msh, velocity)\n",
    "plt.xlim(1.0, 1.0 + H)\n",
    "plt.figure()\n",
    "\n",
    "# FE operators.\n",
    "mass = operator.assemble_p1_mass(msh)\n",
    "mass_inv = scipy.sparse.diags(1.0 / mass)\n",
    "stiffness = operator.assemble_p1_stiffness(msh, velocity)\n",
    "\n",
    "# propagator.\n",
    "propa = propagator.LeapFrog(mass, mass_inv, stiffness)\n",
    "propa.set_init_cond(u1=u0_exact(0), u2=u0_exact(0))\n",
    "propa.set_timestep(propa.get_cfl())\n",
    "\n",
    "plt.figure()\n",
    "@interact_manual\n",
    "def plot_step(steps=(1, 10000)):\n",
    "    for _ in range(steps):\n",
    "        propa.forward()\n",
    "        propa.swap()\n",
    "        \n",
    "    print \"(time step, time) :\"\n",
    "    print propa.ts, propa.time\n",
    "        \n",
    "    plt.plot(msh, propa.u1)\n",
    "    plt.ylim(-0.6, 0.6)"
   ]
  },
  {
   "cell_type": "markdown",
   "metadata": {
    "collapsed": true
   },
   "source": [
    "# Multiscale propagator"
   ]
  },
  {
   "cell_type": "markdown",
   "metadata": {},
   "source": [
    "## Comparing with standard FEM"
   ]
  },
  {
   "cell_type": "code",
   "execution_count": 12,
   "metadata": {},
   "outputs": [
    {
     "name": "stdout",
     "output_type": "stream",
     "text": [
      "(cfl, ms_cfl, ratio) :\n",
      "[1.52905234e-05] [0.00064847] [42.40962445]\n"
     ]
    },
    {
     "data": {
      "text/plain": [
       "<matplotlib.figure.Figure at 0x110cc6ad0>"
      ]
     },
     "metadata": {},
     "output_type": "display_data"
    },
    {
     "data": {
      "application/vnd.jupyter.widget-view+json": {
       "model_id": "389d44e2d8294121ba57c94d049a2902",
       "version_major": 2,
       "version_minor": 0
      },
      "text/html": [
       "<p>Failed to display Jupyter Widget of type <code>interactive</code>.</p>\n",
       "<p>\n",
       "  If you're reading this message in the Jupyter Notebook or JupyterLab Notebook, it may mean\n",
       "  that the widgets JavaScript is still loading. If this message persists, it\n",
       "  likely means that the widgets JavaScript library is either not installed or\n",
       "  not enabled. See the <a href=\"https://ipywidgets.readthedocs.io/en/stable/user_install.html\">Jupyter\n",
       "  Widgets Documentation</a> for setup instructions.\n",
       "</p>\n",
       "<p>\n",
       "  If you're reading this message in another frontend (for example, a static\n",
       "  rendering on GitHub or <a href=\"https://nbviewer.jupyter.org/\">NBViewer</a>),\n",
       "  it may mean that your frontend doesn't currently support widgets.\n",
       "</p>\n"
      ],
      "text/plain": [
       "interactive(children=(IntSlider(value=5000, description=u'steps', max=10000, min=1), Button(description=u'Run Interact', style=ButtonStyle()), Output()), _dom_classes=('widget-interact',))"
      ]
     },
     "metadata": {},
     "output_type": "display_data"
    }
   ],
   "source": [
    "# macro mesh.\n",
    "H = 0.001\n",
    "msh_H = mesh.make_mesh_from_npt(0.0, 2.0, (2.0 / H + 1))\n",
    "u0_exact_H = lambda t: functional.gated_cosine(msh_H-0.15 + t, 40, 0.05)\n",
    "\n",
    "# micro mesh & data\n",
    "h = 2.5e-05\n",
    "msh_h = mesh.make_mesh_from_npt(1.0, 1.0 + H, (H / h + 1))\n",
    "velocity_h = np.abs(2.0 * functional.gated_cosine(msh_h-(1.0 + H / 2), 4000, 0.0002)) + 1.0\n",
    "\n",
    "# Building ms local basis.\n",
    "stiffness_h = operator.assemble_p1_stiffness(msh_h, velocity_h)\n",
    "mass_h = operator.assemble_p1_mass(msh_h)\n",
    "ms_basis0, ms_basis1 = multiscale.get_multiscale_p1_basis(stiffness_h)\n",
    "\n",
    "# Building ms local operator.\n",
    "local_ms_mass = multiscale.assemble_multiscale_p1_local_mass(mass_h, ms_basis0, ms_basis1)\n",
    "local_ms_stiffness = multiscale.assemble_multiscale_p1_local_stiffness(stiffness_h, ms_basis0, ms_basis1)\n",
    "\n",
    "# Building ms local operators.\n",
    "local_ms_masses = {}\n",
    "local_ms_stiffnesses = {}\n",
    "for ie_h in range(0, mesh.get_mesh_nelem(msh_H), 150):\n",
    "    local_ms_masses[ie_h] = local_ms_mass\n",
    "    local_ms_stiffnesses[ie_h] = local_ms_stiffness\n",
    "\n",
    "# Assembling ms operators.\n",
    "ms_mass = multiscale.assemble_multiscale_p1_mass(msh_H, local_ms_masses)\n",
    "ms_mass_inv = scipy.sparse.linalg.inv(ms_mass)\n",
    "ms_stiffness = multiscale.assemble_multiscale_p1_stiffness(msh_H, local_ms_stiffnesses)\n",
    "\n",
    "# micro mesh and velocity\n",
    "msh = mesh.make_mesh_from_npt(0.0, 2.0, (2.0 / h + 1))\n",
    "u0_exact = lambda t: functional.gated_cosine(msh-0.15 + t, 40, 0.05)\n",
    "velocity = np.ones_like(msh)\n",
    "for e in range(0, mesh.get_mesh_nelem(msh_H), 150):\n",
    "    velocity += np.abs(2.0 * functional.gated_cosine(msh-(e * H + H / 2), 4000, 0.0002))\n",
    "\n",
    "# Assempling operators\n",
    "mass = operator.assemble_p1_mass(msh)\n",
    "mass_inv = scipy.sparse.diags(1.0 / mass)\n",
    "stiffness = operator.assemble_p1_stiffness(msh, velocity)\n",
    "\n",
    "# propagator.\n",
    "propa = propagator.LeapFrog(mass, mass_inv, stiffness)\n",
    "propa.set_init_cond(u1=u0_exact(0), u2=u0_exact(0))\n",
    "cfl = propa.get_cfl()\n",
    "propa.set_timestep(cfl)\n",
    "\n",
    "# ms propagator.\n",
    "ms_propa = propagator.LeapFrog(ms_mass, ms_mass_inv, ms_stiffness)\n",
    "ms_propa.set_init_cond(u1=u0_exact_H(0), u2=u0_exact_H(0))\n",
    "ms_propa.set_timestep(cfl)\n",
    "\n",
    "ms_cfl = ms_propa.get_cfl()\n",
    "print \"(cfl, ms_cfl, ratio) :\"\n",
    "print cfl, ms_cfl, ms_cfl / cfl\n",
    "\n",
    "plt.figure()\n",
    "@interact_manual\n",
    "def plot_step(steps=(1, 10000)):\n",
    "    for _ in range(steps):\n",
    "        propa.forward()\n",
    "        propa.swap()\n",
    "        \n",
    "        ms_propa.forward()\n",
    "        ms_propa.swap()\n",
    "        \n",
    "    print \"(time step, time) :\"\n",
    "    print propa.ts, propa.time\n",
    "        \n",
    "    plt.plot(msh, propa.u1)\n",
    "    plt.plot(msh_H, ms_propa.u1)\n",
    "    plt.ylim(-0.6, 0.6)"
   ]
  },
  {
   "cell_type": "markdown",
   "metadata": {},
   "source": [
    "## Evolution of discrete energy"
   ]
  },
  {
   "cell_type": "code",
   "execution_count": 38,
   "metadata": {},
   "outputs": [
    {
     "data": {
      "text/plain": [
       "[<matplotlib.lines.Line2D at 0xdc0d630>]"
      ]
     },
     "execution_count": 38,
     "metadata": {},
     "output_type": "execute_result"
    },
    {
     "data": {
      "image/png": "[encoded data removed]",
      "text/plain": [
       "<matplotlib.figure.Figure at 0xd1d4c50>"
      ]
     },
     "metadata": {},
     "output_type": "display_data"
    },
    {
     "data": {
      "image/png": "[encoded data removed]",
      "text/plain": [
       "<matplotlib.figure.Figure at 0x8eb75c0>"
      ]
     },
     "metadata": {},
     "output_type": "display_data"
    }
   ],
   "source": [
    "# macro mesh.\n",
    "H = 0.001\n",
    "msh_H = mesh.make_mesh_from_npt(0.0, 2.0, (2.0 / H + 1))\n",
    "u0_exact_H = lambda t: functional.gated_cosine(msh_H-0.15 + t, 40, 0.05)\n",
    "\n",
    "# micro mesh & data\n",
    "h = 2.5e-05\n",
    "msh_h = mesh.make_mesh_from_npt(1.0, 1.0 + H, (H / h + 1))\n",
    "velocity_h = np.abs(2.0 * functional.gated_cosine(msh_h-(1.0 + H / 2), 4000, 0.0002)) + 1.0\n",
    "\n",
    "# Building ms local basis.\n",
    "stiffness_h = operator.assemble_p1_stiffness(msh_h, velocity_h)\n",
    "mass_h = operator.assemble_p1_mass(msh_h)\n",
    "ms_basis0, ms_basis1 = multiscale.get_multiscale_p1_basis(stiffness_h)\n",
    "\n",
    "# Building ms local operator.\n",
    "local_ms_mass = multiscale.assemble_multiscale_p1_local_mass(mass_h, ms_basis0, ms_basis1)\n",
    "local_ms_stiffness = multiscale.assemble_multiscale_p1_local_stiffness(stiffness_h, ms_basis0, ms_basis1)\n",
    "\n",
    "# Disctionnary of local masses\n",
    "local_ms_masses = {}\n",
    "local_ms_stiffnesses = {}\n",
    "ie_h = int(1 / H)\n",
    "local_ms_masses[ie_h] = local_ms_mass\n",
    "local_ms_stiffnesses[ie_h] = local_ms_stiffness\n",
    "\n",
    "# Assembling ms operators.\n",
    "ms_mass = multiscale.assemble_multiscale_p1_mass(msh_H, local_ms_masses)\n",
    "ms_mass_inv = scipy.sparse.linalg.inv(ms_mass)\n",
    "ms_stiffness = multiscale.assemble_multiscale_p1_stiffness(msh_H, local_ms_stiffnesses)\n",
    "\n",
    "# ms propagator.\n",
    "ms_propa = propagator.LeapFrog(ms_mass, ms_mass_inv, ms_stiffness)\n",
    "ms_propa.set_init_cond(u1=u0_exact_H(0), u2=u0_exact_H(0))\n",
    "ms_propa.set_timestep(ms_propa.get_cfl())\n",
    "\n",
    "# Computing H^1 norm overtime window\n",
    "nstep = 2000\n",
    "de = np.zeros(nstep)\n",
    "time = np.zeros(nstep)\n",
    "\n",
    "for i in range(0, nstep):\n",
    "    ms_propa.forward()\n",
    "    \n",
    "    e0 = np.dot(ms_propa.u0 - ms_propa.u1, ms_mass * (ms_propa.u0 - ms_propa.u1)) / ms_propa.ts ** 2 \\\n",
    "    + np.dot(ms_propa.u0, ms_stiffness * ms_propa.u1)\n",
    "    \n",
    "    e1 = np.dot(ms_propa.u1 - ms_propa.u2, ms_mass * (ms_propa.u1 - ms_propa.u2)) / ms_propa.ts ** 2 \\\n",
    "    + np.dot(ms_propa.u1, ms_stiffness * ms_propa.u2)\n",
    "    \n",
    "    de[i] = (e0 - e1) / ms_propa.ts\n",
    "    time[i] = ms_propa.time\n",
    "    \n",
    "    ms_propa.swap()\n",
    "    \n",
    "plt.plot(time, de)\n",
    "plt.figure()\n",
    "plt.plot(msh_H, ms_propa.u1)"
   ]
  },
  {
   "cell_type": "markdown",
   "metadata": {},
   "source": [
    "## Multiple scatering"
   ]
  },
  {
   "cell_type": "code",
   "execution_count": null,
   "metadata": {
    "collapsed": true
   },
   "outputs": [],
   "source": []
  }
 ],
 "metadata": {
  "kernelspec": {
   "display_name": "Python 2",
   "language": "python",
   "name": "python2"
  },
  "language_info": {
   "codemirror_mode": {
    "name": "ipython",
    "version": 2
   },
   "file_extension": ".py",
   "mimetype": "text/x-python",
   "name": "python",
   "nbconvert_exporter": "python",
   "pygments_lexer": "ipython2",
   "version": "2.7.10"
  }
 },
 "nbformat": 4,
 "nbformat_minor": 1
}
